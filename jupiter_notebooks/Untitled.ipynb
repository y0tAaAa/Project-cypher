{
 "cells": [
  {
   "cell_type": "code",
   "execution_count": 3,
   "id": "e5e51a2a-6321-419c-ac28-68368e412074",
   "metadata": {},
   "outputs": [
    {
     "name": "stdout",
     "output_type": "stream",
     "text": [
      "Data split and saved successfully.\n"
     ]
    }
   ],
   "source": [
    "import pandas as pd\n",
    "from sklearn.model_selection import train_test_split\n",
    "\n",
    "df = pd.read_csv(\"../data/caesar_pairs.csv\")\n",
    "\n",
    "# Разделение данных на выборки\n",
    "train, temp = train_test_split(df, test_size=0.2, random_state=42)\n",
    "val, test = train_test_split(temp, test_size=0.5, random_state=42)\n",
    "\n",
    "# Сохранение данных\n",
    "train.to_csv(\"../data/train.csv\", index=False)\n",
    "val.to_csv(\"../data/val.csv\", index=False)\n",
    "test.to_csv(\"../data/test.csv\", index=False)\n",
    "\n",
    "print(\"Data split and saved successfully.\")"
   ]
  },
  {
   "cell_type": "code",
   "execution_count": null,
   "id": "62b53bf8-99c2-40e6-9af4-584de8d6aa5c",
   "metadata": {},
   "outputs": [],
   "source": []
  },
  {
   "cell_type": "code",
   "execution_count": null,
   "id": "d697f23c-465d-4f51-b288-94a4ed2fed35",
   "metadata": {},
   "outputs": [],
   "source": []
  }
 ],
 "metadata": {
  "kernelspec": {
   "display_name": "Python 3 (ipykernel)",
   "language": "python",
   "name": "python3"
  },
  "language_info": {
   "codemirror_mode": {
    "name": "ipython",
    "version": 3
   },
   "file_extension": ".py",
   "mimetype": "text/x-python",
   "name": "python",
   "nbconvert_exporter": "python",
   "pygments_lexer": "ipython3",
   "version": "3.11.9"
  }
 },
 "nbformat": 4,
 "nbformat_minor": 5
}
